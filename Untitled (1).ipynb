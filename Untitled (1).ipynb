{
 "cells": [
  {
   "cell_type": "code",
   "execution_count": 1,
   "metadata": {},
   "outputs": [],
   "source": [
    "import cv2\n",
    "import numpy as np\n",
    "import os\n",
    "import shutil\n",
    "import tensorflow as tf\n",
    "import pandas as pd\n",
    "from sklearn import preprocessing\n",
    "import matplotlib.pyplot as plt\n",
    "from tensorflow.keras.preprocessing.image import ImageDataGenerator\n",
    "from tensorflow.keras.layers import Dense,Flatten,Conv2D,MaxPooling2D,Dropout\n",
    "from tensorflow.keras.models import Sequential\n",
    "from tensorflow.keras.models import model_from_json"
   ]
  },
  {
   "cell_type": "code",
   "execution_count": 2,
   "metadata": {},
   "outputs": [],
   "source": [
    "File_path = \"chestXray/metadata.csv\"\n",
    "imgaes_path = \"chestXray/images\""
   ]
  },
  {
   "cell_type": "code",
   "execution_count": 3,
   "metadata": {},
   "outputs": [
    {
     "data": {
      "text/plain": [
       "(372, 29)"
      ]
     },
     "execution_count": 3,
     "metadata": {},
     "output_type": "execute_result"
    }
   ],
   "source": [
    "df = pd.read_csv(File_path)\n",
    "df.shape"
   ]
  },
  {
   "cell_type": "code",
   "execution_count": 39,
   "metadata": {},
   "outputs": [],
   "source": [
    "import os, shutil \n",
    "folder = 'Data_final/val/normal' \n",
    "for filename in os.listdir(folder):\n",
    "    file_path = os.path.join(folder, filename) \n",
    "    try: \n",
    "        if os.path.isfile(file_path) or os.path.islink(file_path): \n",
    "            os.unlink(file_path) \n",
    "        elif os.path.isdir(file_path): \n",
    "            shutil.rmtree(file_path) \n",
    "    except Exception as e: \n",
    "        print('Failed to delete %s. Reason: %s' % (file_path, e))"
   ]
  },
  {
   "cell_type": "code",
   "execution_count": 73,
   "metadata": {},
   "outputs": [
    {
     "name": "stdout",
     "output_type": "stream",
     "text": [
      "Data_final/val/covid\\auntminnie-a-2020_01_28_23_51_6665_2020_01_28_Vietnam_coronavirus.jpeg\n",
      "Data_final/val/covid\\auntminnie-b-2020_01_28_23_51_6665_2020_01_28_Vietnam_coronavirus.jpeg\n",
      "Data_final/val/covid\\auntminnie-c-2020_01_28_23_51_6665_2020_01_28_Vietnam_coronavirus.jpeg\n",
      "Data_final/val/covid\\auntminnie-d-2020_01_28_23_51_6665_2020_01_28_Vietnam_coronavirus.jpeg\n",
      "Data_final/val/covid\\nejmc2001573_f1a.jpeg\n",
      "Data_final/val/covid\\nejmc2001573_f1b.jpeg\n",
      "Data_final/val/covid\\lancet-case2a.jpg\n",
      "Data_final/val/covid\\lancet-case2b.jpg\n",
      "Data_final/val/covid\\1-s2.0-S0140673620303706-fx1_lrg.jpg\n",
      "Data_final/val/covid\\nCoV-radiol.2020200269.fig1-day7.jpeg\n",
      "Data_final/val/covid\\nejmoa2001191_f1-PA.jpeg\n",
      "Data_final/val/covid\\nejmoa2001191_f3-PA.jpeg\n",
      "Data_final/val/covid\\nejmoa2001191_f4.jpeg\n",
      "Data_final/val/covid\\nejmoa2001191_f5-PA.jpeg\n",
      "Data_final/val/covid\\ryct.2020200034.fig2.jpeg\n",
      "Data_final/val/covid\\ryct.2020200034.fig5-day0.jpeg\n",
      "Data_final/val/covid\\ryct.2020200034.fig5-day4.jpeg\n",
      "Data_final/val/covid\\ryct.2020200034.fig5-day7.jpeg\n",
      "Data_final/val/covid\\ryct.2020200028.fig1a.jpeg\n",
      "Data_final/val/covid\\radiol.2020200490.fig3.jpeg\n",
      "Data_final/val/covid\\covid-19-pneumonia-15-PA.jpg\n",
      "Data_final/val/covid\\covid-19-pneumonia-2.jpg\n",
      "Data_final/val/covid\\covid-19-pneumonia-7-PA.jpg\n",
      "Data_final/val/covid\\covid-19-pneumonia-14-PA.png\n",
      "Data_final/val/covid\\covid-19-pneumonia-12.jpg\n",
      "Data_final/val/covid\\7C69C012-7479-493F-8722-ABC29C60A2DD.jpeg\n",
      "Data_final/val/covid\\8FDE8DBA-CFBD-4B4C-B1A4-6F36A93B7E87.jpeg\n",
      "Data_final/val/covid\\9C34AF49-E589-44D5-92D3-168B3B04E4A6.jpeg\n",
      "Data_final/val/covid\\F2DE909F-E19C-4900-92F5-8F435B031AC6.jpeg\n",
      "Data_final/val/covid\\31BA3780-2323-493F-8AED-62081B9C383B.jpeg\n",
      "142\n"
     ]
    }
   ],
   "source": [
    "cnt = 0\n",
    "target_dir = \"Data_final/train/covid\"\n",
    "target_dir_val =  \"Data_final/val/covid\"\n",
    "\n",
    "for (i,row) in df.iterrows():\n",
    "    if(row[\"finding\"] == \"COVID-19\" and row[\"view\"] == \"PA\" and cnt < 30):\n",
    "            filename = row[\"filename\"]\n",
    "            image_path = os.path.join(imgaes_path, filename)\n",
    "            image_copy_path = os.path.join(target_dir_val, filename)\n",
    "            shutil.copy2(image_path , image_copy_path)\n",
    "            print(image_copy_path)\n",
    "            cnt+=1\n",
    "    if(row[\"finding\"] == \"COVID-19\" and row[\"view\"] == \"PA\" and cnt >= 30):\n",
    "            filename = row[\"filename\"]\n",
    "            image_path = os.path.join(imgaes_path, filename)\n",
    "            image_copy_path = os.path.join(target_dir, filename)\n",
    "            shutil.copy2(image_path , image_copy_path)\n",
    "            cnt +=1\n",
    "       \n",
    "print(cnt)"
   ]
  },
  {
   "cell_type": "code",
   "execution_count": 51,
   "metadata": {},
   "outputs": [],
   "source": [
    "import random\n",
    "\n",
    "kaggle_file_path = \"C:/Users/saigi/Downloads/kaggle_data/chest_xray/train/NORMAL\"\n",
    "image_names = os.listdir(kaggle_file_path)\n",
    "random.shuffle(image_names)"
   ]
  },
  {
   "cell_type": "code",
   "execution_count": 52,
   "metadata": {},
   "outputs": [
    {
     "name": "stdout",
     "output_type": "stream",
     "text": [
      "142\n"
     ]
    }
   ],
   "source": [
    "cnt = 0\n",
    "target_dir = \"Data_final/train/normal\"\n",
    "target_dir_val =  \"Data_final/val/normal\"\n",
    "\n",
    "for filename in image_names:\n",
    "    if(cnt < 30):\n",
    "        image_path = os.path.join(kaggle_file_path, filename)\n",
    "        normal_path = os.path.join(target_dir_val, filename)\n",
    "        shutil.copy2(image_path , normal_path)\n",
    "    else:\n",
    "        image_path = os.path.join(kaggle_file_path, filename)\n",
    "        normal_path = os.path.join(target_dir, filename)\n",
    "        shutil.copy2(image_path , normal_path)\n",
    "    cnt += 1\n",
    "    if(cnt == 142):\n",
    "            break\n",
    "print(cnt)"
   ]
  },
  {
   "cell_type": "code",
   "execution_count": 62,
   "metadata": {},
   "outputs": [],
   "source": [
    "TRAIN_PATH = \"Data_final/train\"\n",
    "VAL_PATH = \"Data_final/val\""
   ]
  },
  {
   "cell_type": "code",
   "execution_count": 63,
   "metadata": {},
   "outputs": [],
   "source": [
    "import numpy as np\n",
    "import matplotlib.pyplot as plt\n",
    "from tensorflow.keras.preprocessing import image"
   ]
  },
  {
   "cell_type": "code",
   "execution_count": 64,
   "metadata": {},
   "outputs": [],
   "source": [
    "# CNN Based Model in Keras\n",
    "\n",
    "model = Sequential()\n",
    "model.add(Conv2D(32,kernel_size=(3,3),activation='relu',input_shape=(224,224,3)))\n",
    "model.add(Conv2D(64,(3,3),activation='relu'))\n",
    "model.add(MaxPooling2D(pool_size=(2,2)))\n",
    "model.add(Dropout(0.25))\n",
    "\n",
    "model.add(Conv2D(64,(3,3),activation='relu'))\n",
    "model.add(MaxPooling2D(pool_size=(2,2)))\n",
    "model.add(Dropout(0.25))\n",
    "\n",
    "model.add(Conv2D(128,(3,3),activation='relu'))\n",
    "model.add(MaxPooling2D(pool_size=(2,2)))\n",
    "model.add(Dropout(0.25))\n",
    "\n",
    "model.add(Flatten())\n",
    "model.add(Dense(64,activation='relu'))\n",
    "model.add(Dropout(0.5))\n",
    "model.add(Dense(1,activation='sigmoid'))\n",
    "\n",
    "model.compile(loss=tf.keras.losses.binary_crossentropy,optimizer='adam',metrics=['accuracy'])"
   ]
  },
  {
   "cell_type": "code",
   "execution_count": 65,
   "metadata": {},
   "outputs": [],
   "source": [
    "# Train from scratch\n",
    "train_datagen = image.ImageDataGenerator(\n",
    "    rescale = 1./255,\n",
    "    shear_range = 0.2,\n",
    "    zoom_range = 0.2,\n",
    "    horizontal_flip = True,\n",
    ")\n",
    "\n",
    "test_dataset = image.ImageDataGenerator(rescale=1./255)"
   ]
  },
  {
   "cell_type": "code",
   "execution_count": 66,
   "metadata": {},
   "outputs": [
    {
     "name": "stdout",
     "output_type": "stream",
     "text": [
      "Found 325 images belonging to 2 classes.\n"
     ]
    }
   ],
   "source": [
    "train_generator = train_datagen.flow_from_directory(\n",
    "    'Data_final/train',\n",
    "    target_size = (224,224),\n",
    "    batch_size = 32,\n",
    "    class_mode = 'binary')\n"
   ]
  },
  {
   "cell_type": "code",
   "execution_count": 67,
   "metadata": {},
   "outputs": [
    {
     "data": {
      "text/plain": [
       "{'covid': 0, 'normal': 1}"
      ]
     },
     "execution_count": 67,
     "metadata": {},
     "output_type": "execute_result"
    }
   ],
   "source": [
    "train_generator.class_indices"
   ]
  },
  {
   "cell_type": "code",
   "execution_count": 68,
   "metadata": {},
   "outputs": [
    {
     "name": "stdout",
     "output_type": "stream",
     "text": [
      "Found 90 images belonging to 2 classes.\n"
     ]
    }
   ],
   "source": [
    "validation_generator = test_dataset.flow_from_directory(\n",
    "    'Data_final/val',\n",
    "    target_size = (224,224),\n",
    "    batch_size = 32,\n",
    "    class_mode = 'binary')"
   ]
  },
  {
   "cell_type": "code",
   "execution_count": 69,
   "metadata": {},
   "outputs": [
    {
     "data": {
      "text/plain": [
       "{'covid': 0, 'normal': 1}"
      ]
     },
     "execution_count": 69,
     "metadata": {},
     "output_type": "execute_result"
    }
   ],
   "source": [
    "validation_generator.class_indices"
   ]
  },
  {
   "cell_type": "code",
   "execution_count": 70,
   "metadata": {},
   "outputs": [
    {
     "name": "stdout",
     "output_type": "stream",
     "text": [
      "WARNING:tensorflow:sample_weight modes were coerced from\n",
      "  ...\n",
      "    to  \n",
      "  ['...']\n",
      "WARNING:tensorflow:sample_weight modes were coerced from\n",
      "  ...\n",
      "    to  \n",
      "  ['...']\n",
      "Train for 8 steps, validate for 2 steps\n",
      "Epoch 1/10\n",
      "8/8 [==============================] - 47s 6s/step - loss: 0.9832 - accuracy: 0.5939 - val_loss: 0.6322 - val_accuracy: 0.6875\n",
      "Epoch 2/10\n",
      "8/8 [==============================] - 52s 6s/step - loss: 0.5969 - accuracy: 0.6987 - val_loss: 0.5045 - val_accuracy: 0.7031\n",
      "Epoch 3/10\n",
      "8/8 [==============================] - 51s 6s/step - loss: 0.4300 - accuracy: 0.8341 - val_loss: 0.3733 - val_accuracy: 0.9375\n",
      "Epoch 4/10\n",
      "8/8 [==============================] - 57s 7s/step - loss: 0.2985 - accuracy: 0.8750 - val_loss: 0.1619 - val_accuracy: 1.0000\n",
      "Epoch 5/10\n",
      "8/8 [==============================] - 53s 7s/step - loss: 0.2898 - accuracy: 0.8908 - val_loss: 0.0700 - val_accuracy: 1.0000\n",
      "Epoch 6/10\n",
      "8/8 [==============================] - 52s 6s/step - loss: 0.1944 - accuracy: 0.9258 - val_loss: 0.1005 - val_accuracy: 0.9844\n",
      "Epoch 7/10\n",
      "8/8 [==============================] - 52s 7s/step - loss: 0.1552 - accuracy: 0.9258 - val_loss: 0.0751 - val_accuracy: 1.0000\n",
      "Epoch 8/10\n",
      "8/8 [==============================] - 51s 6s/step - loss: 0.1946 - accuracy: 0.9258 - val_loss: 0.0651 - val_accuracy: 1.0000\n",
      "Epoch 9/10\n",
      "8/8 [==============================] - 51s 6s/step - loss: 0.1380 - accuracy: 0.9389 - val_loss: 0.0291 - val_accuracy: 1.0000\n",
      "Epoch 10/10\n",
      "8/8 [==============================] - 51s 6s/step - loss: 0.0884 - accuracy: 0.9825 - val_loss: 0.0550 - val_accuracy: 1.0000\n"
     ]
    }
   ],
   "source": [
    "hist = model.fit_generator(\n",
    "    train_generator,\n",
    "    steps_per_epoch=8,\n",
    "    epochs = 10,\n",
    "    validation_data = validation_generator,\n",
    "    validation_steps=2\n",
    ")"
   ]
  },
  {
   "cell_type": "code",
   "execution_count": 71,
   "metadata": {},
   "outputs": [],
   "source": [
    "model_json = model.to_json()\n",
    "with open(\"model.json\", \"w\") as json_file:\n",
    "    json_file.write(model_json)"
   ]
  },
  {
   "cell_type": "code",
   "execution_count": 72,
   "metadata": {},
   "outputs": [],
   "source": [
    "model.save_weights(\"model.h5\")"
   ]
  },
  {
   "cell_type": "code",
   "execution_count": null,
   "metadata": {},
   "outputs": [],
   "source": []
  }
 ],
 "metadata": {
  "kernelspec": {
   "display_name": "Python 3",
   "language": "python",
   "name": "python3"
  },
  "language_info": {
   "codemirror_mode": {
    "name": "ipython",
    "version": 3
   },
   "file_extension": ".py",
   "mimetype": "text/x-python",
   "name": "python",
   "nbconvert_exporter": "python",
   "pygments_lexer": "ipython3",
   "version": "3.7.4"
  }
 },
 "nbformat": 4,
 "nbformat_minor": 2
}
