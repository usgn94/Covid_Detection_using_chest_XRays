{
 "cells": [
  {
   "cell_type": "code",
   "execution_count": 44,
   "metadata": {
    "scrolled": true
   },
   "outputs": [],
   "source": [
    "import cv2\n",
    "import numpy as np\n",
    "import os\n",
    "import shutil\n",
    "import tensorflow as tf\n",
    "import pandas as pd\n",
    "from sklearn import preprocessing\n",
    "import matplotlib.pyplot as plt\n",
    "from tensorflow.keras.preprocessing.image import ImageDataGenerator\n",
    "from tensorflow.keras.layers import Dense,Flatten,Conv2D,MaxPooling2D,Dropout\n",
    "from tensorflow.keras.models import Sequential"
   ]
  },
  {
   "cell_type": "code",
   "execution_count": 45,
   "metadata": {},
   "outputs": [],
   "source": [
    "File_path = \"chestXray/metadata.csv\"\n",
    "imgaes_path = \"chestXray/images\""
   ]
  },
  {
   "cell_type": "code",
   "execution_count": 46,
   "metadata": {},
   "outputs": [
    {
     "data": {
      "text/plain": [
       "(372, 29)"
      ]
     },
     "execution_count": 46,
     "metadata": {},
     "output_type": "execute_result"
    }
   ],
   "source": [
    "df = pd.read_csv(File_path)\n",
    "df.shape"
   ]
  },
  {
   "cell_type": "raw",
   "metadata": {},
   "source": [
    "df.info()"
   ]
  },
  {
   "cell_type": "raw",
   "metadata": {},
   "source": [
    "df.drop(['intubated', 'intubation_present','went_icu', 'in_icu', 'needed_supplemental_O2', 'extubated', 'temperature','pO2_saturation', 'leukocyte_count' ,'neutrophil_count','lymphocyte_count' ], axis = 1)"
   ]
  },
  {
   "cell_type": "code",
   "execution_count": 47,
   "metadata": {},
   "outputs": [],
   "source": [
    "filenames = []\n",
    "finding_1 = []"
   ]
  },
  {
   "cell_type": "code",
   "execution_count": 49,
   "metadata": {},
   "outputs": [
    {
     "name": "stdout",
     "output_type": "stream",
     "text": [
      "covid directory created\n"
     ]
    }
   ],
   "source": [
    "target_dir = \"Data/train\"\n",
    "\n",
    "if not os.path.exists(target_dir):\n",
    "    os.mkdir(target_dir)\n",
    "    print(\"covid directory created\")"
   ]
  },
  {
   "cell_type": "code",
   "execution_count": 50,
   "metadata": {},
   "outputs": [
    {
     "name": "stdout",
     "output_type": "stream",
     "text": [
      "195\n"
     ]
    }
   ],
   "source": [
    "cnt = 0\n",
    "\n",
    "for (i,row) in df.iterrows():\n",
    "    if(row[\"view\"] == \"PA\"):\n",
    "            filename = row[\"filename\"]\n",
    "            filenames.append(filename)\n",
    "            finding_1.append(1)\n",
    "            image_path = os.path.join(imgaes_path, filename)\n",
    "            image_copy_path = os.path.join(target_dir, filename)\n",
    "            shutil.copy2(image_path , image_copy_path)\n",
    "            cnt += 1\n",
    "            \n",
    "print(cnt)"
   ]
  },
  {
   "cell_type": "code",
   "execution_count": 51,
   "metadata": {},
   "outputs": [
    {
     "data": {
      "text/plain": [
       "(372, 29)"
      ]
     },
     "execution_count": 51,
     "metadata": {},
     "output_type": "execute_result"
    }
   ],
   "source": [
    "df.shape"
   ]
  },
  {
   "cell_type": "code",
   "execution_count": 52,
   "metadata": {},
   "outputs": [],
   "source": [
    "import random\n",
    "\n",
    "kaggle_file_path = \"C:/Users/saigi/Downloads/kaggle_data/chest_xray/train/NORMAL\"\n",
    "target_normal = \"Data/train\"\n"
   ]
  },
  {
   "cell_type": "code",
   "execution_count": 53,
   "metadata": {},
   "outputs": [],
   "source": [
    "image_names = os.listdir(kaggle_file_path)"
   ]
  },
  {
   "cell_type": "code",
   "execution_count": 54,
   "metadata": {},
   "outputs": [],
   "source": [
    "random.shuffle(image_names)"
   ]
  },
  {
   "cell_type": "code",
   "execution_count": 55,
   "metadata": {},
   "outputs": [
    {
     "name": "stdout",
     "output_type": "stream",
     "text": [
      "195\n"
     ]
    }
   ],
   "source": [
    "cnt =0;\n",
    "i=0\n",
    "for filename in image_names:\n",
    "    image_path = os.path.join(kaggle_file_path, filename)\n",
    "    normal_path = os.path.join(target_normal, filename)\n",
    "    filenames.append(filename)\n",
    "    finding_1.append(0)\n",
    "    #print(normal_path)\n",
    "    cnt += 1\n",
    "    shutil.copy2(image_path , normal_path)\n",
    "    if(cnt == 195):\n",
    "        break\n",
    "print(cnt)"
   ]
  },
  {
   "cell_type": "code",
   "execution_count": 56,
   "metadata": {},
   "outputs": [],
   "source": [
    "Dic = {\n",
    "    \"filename\" : filenames,\n",
    "    \"finding\": finding_1\n",
    "}\n",
    "\n",
    "covid_data_csv = pd.DataFrame(Dic)\n",
    "covid_data_csv.to_csv(\"xray_train.csv\")"
   ]
  },
  {
   "cell_type": "code",
   "execution_count": 57,
   "metadata": {},
   "outputs": [],
   "source": [
    "covid_data_images = \"Data/train\""
   ]
  },
  {
   "cell_type": "code",
   "execution_count": 58,
   "metadata": {},
   "outputs": [],
   "source": [
    "def get_train_generator(df, image_dir, x_col, y_cols, shuffle=True, batch_size= 1, seed=1, target_w = 550, target_h = 600):\n",
    "\n",
    "    print(\"getting train generator...\") \n",
    "    # normalize images\n",
    "    image_generator = ImageDataGenerator(\n",
    "        samplewise_center=True,\n",
    "        samplewise_std_normalization= True)\n",
    "    \n",
    "    # flow from directory with specified batch size\n",
    "    # and target image size\n",
    "    generator = image_generator.flow_from_dataframe(\n",
    "            dataframe=df,\n",
    "            directory=image_dir,\n",
    "            x_col=x_col,\n",
    "            y_col=y_cols,\n",
    "            class_mode=\"raw\",\n",
    "            batch_size=batch_size,\n",
    "            shuffle=shuffle,\n",
    "            seed=seed,\n",
    "            target_size=(target_w,target_h))\n",
    "    \n",
    "    return generator"
   ]
  },
  {
   "cell_type": "code",
   "execution_count": 59,
   "metadata": {},
   "outputs": [
    {
     "name": "stdout",
     "output_type": "stream",
     "text": [
      "getting train generator...\n",
      "Found 390 validated image filenames.\n"
     ]
    }
   ],
   "source": [
    "train_generator = get_train_generator(covid_data_csv, covid_data_images,'filename', 'finding')"
   ]
  },
  {
   "cell_type": "code",
   "execution_count": 18,
   "metadata": {},
   "outputs": [],
   "source": [
    "x, y = train_generator.__getitem__(0)"
   ]
  },
  {
   "cell_type": "code",
   "execution_count": 19,
   "metadata": {
    "scrolled": true
   },
   "outputs": [],
   "source": [
    "x, y = train_generator.__getitem__(20)"
   ]
  },
  {
   "cell_type": "code",
   "execution_count": 60,
   "metadata": {},
   "outputs": [],
   "source": [
    "train_df = covid_data_csv"
   ]
  },
  {
   "cell_type": "code",
   "execution_count": 73,
   "metadata": {},
   "outputs": [
    {
     "name": "stdout",
     "output_type": "stream",
     "text": [
      "Data/test\\IM-0001-0001.jpeg\n",
      "Data/test\\IM-0003-0001.jpeg\n",
      "Data/test\\IM-0005-0001.jpeg\n",
      "Data/test\\IM-0006-0001.jpeg\n",
      "Data/test\\IM-0007-0001.jpeg\n",
      "Data/test\\IM-0009-0001.jpeg\n",
      "Data/test\\IM-0010-0001.jpeg\n",
      "Data/test\\IM-0011-0001-0001.jpeg\n",
      "Data/test\\IM-0011-0001-0002.jpeg\n",
      "Data/test\\IM-0011-0001.jpeg\n",
      "Data/test\\IM-0013-0001.jpeg\n",
      "Data/test\\IM-0015-0001.jpeg\n",
      "Data/test\\IM-0016-0001.jpeg\n",
      "Data/test\\IM-0017-0001.jpeg\n",
      "Data/test\\IM-0019-0001.jpeg\n",
      "Data/test\\IM-0021-0001.jpeg\n",
      "Data/test\\IM-0022-0001.jpeg\n",
      "Data/test\\IM-0023-0001.jpeg\n",
      "Data/test\\IM-0025-0001.jpeg\n",
      "Data/test\\IM-0027-0001.jpeg\n",
      "Data/test\\IM-0028-0001.jpeg\n",
      "Data/test\\IM-0029-0001.jpeg\n",
      "Data/test\\IM-0030-0001.jpeg\n",
      "Data/test\\IM-0031-0001.jpeg\n",
      "Data/test\\IM-0033-0001-0001.jpeg\n",
      "Data/test\\IM-0033-0001-0002.jpeg\n",
      "Data/test\\IM-0033-0001.jpeg\n",
      "Data/test\\IM-0035-0001.jpeg\n",
      "Data/test\\IM-0036-0001.jpeg\n",
      "Data/test\\IM-0037-0001.jpeg\n",
      "Data/test\\IM-0039-0001.jpeg\n",
      "Data/test\\IM-0041-0001.jpeg\n",
      "Data/test\\IM-0043-0001.jpeg\n",
      "Data/test\\IM-0045-0001.jpeg\n",
      "Data/test\\IM-0046-0001.jpeg\n",
      "Data/test\\IM-0049-0001.jpeg\n",
      "Data/test\\IM-0050-0001.jpeg\n",
      "Data/test\\IM-0059-0001.jpeg\n",
      "Data/test\\IM-0061-0001.jpeg\n",
      "Data/test\\IM-0063-0001.jpeg\n",
      "Data/test\\IM-0065-0001.jpeg\n",
      "Data/test\\IM-0067-0001.jpeg\n",
      "Data/test\\IM-0069-0001.jpeg\n",
      "Data/test\\IM-0070-0001.jpeg\n",
      "Data/test\\IM-0071-0001.jpeg\n",
      "Data/test\\IM-0073-0001.jpeg\n",
      "Data/test\\IM-0075-0001.jpeg\n",
      "Data/test\\IM-0077-0001.jpeg\n",
      "Data/test\\IM-0079-0001.jpeg\n",
      "Data/test\\IM-0081-0001.jpeg\n",
      "Data/test\\IM-0083-0001.jpeg\n",
      "Data/test\\IM-0084-0001.jpeg\n",
      "Data/test\\IM-0085-0001.jpeg\n",
      "Data/test\\IM-0086-0001.jpeg\n",
      "Data/test\\IM-0087-0001.jpeg\n",
      "Data/test\\IM-0089-0001.jpeg\n",
      "Data/test\\IM-0091-0001.jpeg\n",
      "Data/test\\IM-0093-0001.jpeg\n",
      "Data/test\\IM-0095-0001.jpeg\n",
      "Data/test\\IM-0097-0001.jpeg\n",
      "Data/test\\IM-0099-0001.jpeg\n",
      "Data/test\\IM-0101-0001.jpeg\n",
      "Data/test\\IM-0102-0001.jpeg\n",
      "Data/test\\IM-0103-0001.jpeg\n",
      "Data/test\\IM-0105-0001.jpeg\n",
      "Data/test\\IM-0107-0001.jpeg\n",
      "Data/test\\IM-0109-0001.jpeg\n",
      "Data/test\\IM-0110-0001.jpeg\n",
      "Data/test\\IM-0111-0001.jpeg\n",
      "Data/test\\NORMAL2-IM-0007-0001.jpeg\n",
      "Data/test\\NORMAL2-IM-0012-0001.jpeg\n",
      "Data/test\\NORMAL2-IM-0013-0001.jpeg\n",
      "Data/test\\NORMAL2-IM-0019-0001.jpeg\n",
      "Data/test\\NORMAL2-IM-0023-0001.jpeg\n",
      "Data/test\\NORMAL2-IM-0027-0001.jpeg\n",
      "Data/test\\NORMAL2-IM-0028-0001.jpeg\n",
      "Data/test\\NORMAL2-IM-0029-0001.jpeg\n",
      "Data/test\\NORMAL2-IM-0030-0001.jpeg\n",
      "Data/test\\NORMAL2-IM-0033-0001.jpeg\n",
      "Data/test\\NORMAL2-IM-0035-0001.jpeg\n",
      "Data/test\\NORMAL2-IM-0041-0001.jpeg\n",
      "Data/test\\NORMAL2-IM-0045-0001.jpeg\n",
      "Data/test\\NORMAL2-IM-0051-0001.jpeg\n",
      "Data/test\\NORMAL2-IM-0052-0001.jpeg\n",
      "Data/test\\NORMAL2-IM-0058-0001.jpeg\n",
      "Data/test\\NORMAL2-IM-0059-0001.jpeg\n",
      "Data/test\\NORMAL2-IM-0060-0001.jpeg\n",
      "Data/test\\NORMAL2-IM-0066-0001.jpeg\n",
      "Data/test\\NORMAL2-IM-0072-0001.jpeg\n",
      "Data/test\\NORMAL2-IM-0073-0001.jpeg\n",
      "Data/test\\NORMAL2-IM-0079-0001.jpeg\n",
      "Data/test\\NORMAL2-IM-0081-0001.jpeg\n",
      "Data/test\\NORMAL2-IM-0086-0001.jpeg\n",
      "Data/test\\NORMAL2-IM-0092-0001.jpeg\n",
      "Data/test\\NORMAL2-IM-0095-0001.jpeg\n",
      "Data/test\\NORMAL2-IM-0096-0001.jpeg\n",
      "Data/test\\NORMAL2-IM-0098-0001.jpeg\n",
      "Data/test\\NORMAL2-IM-0102-0001.jpeg\n",
      "Data/test\\NORMAL2-IM-0105-0001.jpeg\n",
      "Data/test\\NORMAL2-IM-0107-0001.jpeg\n",
      "100\n"
     ]
    }
   ],
   "source": [
    "kaggle_file_path = \"C:/Users/saigi/Downloads/kaggle_data/chest_xray/chest_xray/test/NORMAL\"\n",
    "target_normal = \"Data/test\"\n",
    "image_names = os.listdir(kaggle_file_path)\n",
    "test_filename = []\n",
    "test_finding = []\n",
    "cnt =0;\n",
    "for filename in image_names:\n",
    "    image_path = os.path.join(kaggle_file_path, filename)\n",
    "    normal_path = os.path.join(target_normal, filename)\n",
    "    test_filename.append(filename)\n",
    "    test_finding.append(0)\n",
    "    cnt += 1\n",
    "    shutil.copy2(image_path , normal_path)\n",
    "    print(normal_path)\n",
    "    if(cnt == 100):\n",
    "        break\n",
    "print(cnt)"
   ]
  },
  {
   "cell_type": "code",
   "execution_count": 22,
   "metadata": {},
   "outputs": [
    {
     "data": {
      "text/plain": [
       "array(['COVID-19', 'ARDS', 'SARS', 'Pneumocystis', 'Streptococcus',\n",
       "       'No Finding', 'Chlamydophila', 'E.Coli', 'COVID-19, ARDS',\n",
       "       'Klebsiella', 'Legionella'], dtype=object)"
      ]
     },
     "execution_count": 22,
     "metadata": {},
     "output_type": "execute_result"
    }
   ],
   "source": [
    "df['finding'].unique()"
   ]
  },
  {
   "cell_type": "code",
   "execution_count": 74,
   "metadata": {},
   "outputs": [
    {
     "name": "stdout",
     "output_type": "stream",
     "text": [
      "Data/test\\auntminnie-a-2020_01_28_23_51_6665_2020_01_28_Vietnam_coronavirus.jpeg\n",
      "Data/test\\auntminnie-b-2020_01_28_23_51_6665_2020_01_28_Vietnam_coronavirus.jpeg\n",
      "Data/test\\auntminnie-c-2020_01_28_23_51_6665_2020_01_28_Vietnam_coronavirus.jpeg\n",
      "Data/test\\auntminnie-d-2020_01_28_23_51_6665_2020_01_28_Vietnam_coronavirus.jpeg\n",
      "Data/test\\nejmc2001573_f1a.jpeg\n",
      "Data/test\\nejmc2001573_f1b.jpeg\n",
      "Data/test\\lancet-case2a.jpg\n",
      "Data/test\\lancet-case2b.jpg\n",
      "Data/test\\1-s2.0-S0140673620303706-fx1_lrg.jpg\n",
      "Data/test\\nCoV-radiol.2020200269.fig1-day7.jpeg\n",
      "Data/test\\nejmoa2001191_f1-PA.jpeg\n",
      "Data/test\\nejmoa2001191_f3-PA.jpeg\n",
      "Data/test\\nejmoa2001191_f4.jpeg\n",
      "Data/test\\nejmoa2001191_f5-PA.jpeg\n",
      "Data/test\\ryct.2020200034.fig2.jpeg\n",
      "Data/test\\ryct.2020200034.fig5-day0.jpeg\n",
      "Data/test\\ryct.2020200034.fig5-day4.jpeg\n",
      "Data/test\\ryct.2020200034.fig5-day7.jpeg\n",
      "Data/test\\ryct.2020200028.fig1a.jpeg\n",
      "Data/test\\radiol.2020200490.fig3.jpeg\n",
      "Data/test\\covid-19-pneumonia-15-PA.jpg\n",
      "Data/test\\covid-19-pneumonia-2.jpg\n",
      "Data/test\\covid-19-pneumonia-7-PA.jpg\n",
      "Data/test\\covid-19-pneumonia-14-PA.png\n",
      "Data/test\\covid-19-pneumonia-12.jpg\n",
      "Data/test\\7C69C012-7479-493F-8722-ABC29C60A2DD.jpeg\n",
      "Data/test\\8FDE8DBA-CFBD-4B4C-B1A4-6F36A93B7E87.jpeg\n",
      "Data/test\\9C34AF49-E589-44D5-92D3-168B3B04E4A6.jpeg\n",
      "Data/test\\F2DE909F-E19C-4900-92F5-8F435B031AC6.jpeg\n",
      "Data/test\\31BA3780-2323-493F-8AED-62081B9C383B.jpeg\n",
      "Data/test\\1312A392-67A3-4EBF-9319-810CF6DA5EF6.jpeg\n",
      "Data/test\\23E99E2E-447C-46E5-8EB2-D35D12473C39.png\n",
      "Data/test\\7AF6C1AF-D249-4BD2-8C26-449304105D03.jpeg\n",
      "Data/test\\1B734A89-A1BF-49A8-A1D3-66FAFA4FAC5D.jpeg\n",
      "Data/test\\CD50BA96-6982-4C80-AE7B-5F67ACDBFA56.jpeg\n",
      "Data/test\\85E52EB3-56E9-4D67-82DA-DEA247C82886.jpeg\n",
      "Data/test\\6CB4EFC6-68FA-4CD5-940C-BEFA8DAFE9A7.jpeg\n",
      "Data/test\\01E392EE-69F9-4E33-BFCE-E5C968654078.jpeg\n",
      "Data/test\\F63AB6CE-1968-4154-A70F-913AF154F53D.jpeg\n",
      "Data/test\\2C26F453-AF3B-4517-BB9E-802CF2179543.jpeg\n",
      "Data/test\\93FE0BB1-022D-4F24-9727-987A07975FFB.jpeg\n",
      "Data/test\\F4341CE7-73C9-45C6-99C8-8567A5484B63.jpeg\n",
      "Data/test\\E63574A7-4188-4C8D-8D17-9D67A18A1AFA.jpeg\n",
      "Data/test\\80446565-E090-4187-A031-9D3CEAA586C8.jpeg\n",
      "Data/test\\all14238-fig-0001-m-b.jpg\n",
      "Data/test\\all14238-fig-0001-m-c.jpg\n",
      "Data/test\\1-s2.0-S1684118220300608-main.pdf-001.jpg\n",
      "Data/test\\1-s2.0-S1684118220300608-main.pdf-002.jpg\n",
      "Data/test\\ciaa199.pdf-001-a.png\n",
      "Data/test\\ciaa199.pdf-001-b.png\n",
      "Data/test\\ciaa199.pdf-001-c.png\n",
      "Data/test\\kjr-21-e24-g001-l-a.jpg\n",
      "Data/test\\kjr-21-e24-g002-l-a.jpg\n",
      "Data/test\\kjr-21-e24-g003-l-a.jpg\n",
      "Data/test\\1-s2.0-S1684118220300682-main.pdf-002-a1.png\n",
      "Data/test\\1-s2.0-S1684118220300682-main.pdf-002-a2.png\n",
      "Data/test\\1-s2.0-S1684118220300682-main.pdf-003-b1.png\n",
      "Data/test\\1-s2.0-S1684118220300682-main.pdf-003-b2.png\n",
      "Data/test\\gr1_lrg-a.jpg\n",
      "Data/test\\gr1_lrg-b.jpg\n",
      "Data/test\\FE9F9A5D-2830-46F9-851B-1FF4534959BE.jpeg\n",
      "Data/test\\41591_2020_819_Fig1_HTML.webp-day5.png\n",
      "Data/test\\41591_2020_819_Fig1_HTML.webp-day10.png\n",
      "Data/test\\covid-19-pneumonia-19.jpg\n",
      "Data/test\\kjr-21-e25-g001-l-a.jpg\n",
      "Data/test\\03BF7561-A9BA-4C3C-B8A0-D3E585F73F3C.jpeg\n",
      "Data/test\\353889E0-A1E8-4F9E-A0B8-F24F36BCFBFB.jpeg\n",
      "Data/test\\figure1-5e75d0940b71e1b702629659-98-right.jpeg\n",
      "Data/test\\figure1-5e71be566aa8714a04de3386-98-left.jpeg\n",
      "Data/test\\2966893D-5DDF-4B68-9E2B-4979D5956C8E.jpeg\n",
      "Data/test\\B2D20576-00B7-4519-A415-72DE29C90C34.jpeg\n",
      "Data/test\\6C94A287-C059-46A0-8600-AFB95F4727B7.jpeg\n",
      "Data/test\\covid-19-pneumonia-30-PA.jpg\n",
      "Data/test\\6b44464d-73a7-4cf3-bbb6-ffe7168300e3.annot.original.jpeg\n",
      "Data/test\\58cb9263f16e94305c730685358e4e_jumbo.jpeg\n",
      "Data/test\\9fdd3c3032296fd04d2cad5d9070d4_jumbo.jpeg\n",
      "Data/test\\covid-19-infection-exclusive-gastrointestinal-symptoms-pa.png\n",
      "Data/test\\covid-19-pneumonia-28.png\n",
      "Data/test\\1.CXRCTThoraximagesofCOVID-19fromSingapore.pdf-000-fig1a.png\n",
      "Data/test\\1.CXRCTThoraximagesofCOVID-19fromSingapore.pdf-000-fig1b.png\n",
      "Data/test\\1.CXRCTThoraximagesofCOVID-19fromSingapore.pdf-001-fig2a.png\n",
      "Data/test\\1.CXRCTThoraximagesofCOVID-19fromSingapore.pdf-001-fig2b.png\n",
      "Data/test\\1.CXRCTThoraximagesofCOVID-19fromSingapore.pdf-002-fig3a.png\n",
      "Data/test\\1.CXRCTThoraximagesofCOVID-19fromSingapore.pdf-002-fig3b.png\n",
      "Data/test\\1.CXRCTThoraximagesofCOVID-19fromSingapore.pdf-003-fig4a.png\n",
      "Data/test\\1.CXRCTThoraximagesofCOVID-19fromSingapore.pdf-003-fig4b.png\n",
      "Data/test\\covid-19-pneumonia-evolution-over-a-week-1-day0-PA.jpg\n",
      "Data/test\\53EC07C9-5CC6-4BE4-9B6F-D7B0D72AAA7E.jpeg\n",
      "Data/test\\covid-19-caso-70-1-PA.jpg\n",
      "Data/test\\4e43e48d52c9e2d4c6c1fb9bc1544f_jumbo.jpeg\n",
      "Data/test\\covid-19-pneumonia-53.jpg\n",
      "Data/test\\fff49165-b22d-4bb4-b9d1-d5d62c52436c.annot.original.png\n",
      "Data/test\\radiol.2020200274.fig3d.png\n",
      "Data/test\\covid-19-pneumonia-8.jpg\n",
      "Data/test\\covid-19-pneumonia-20-pa-on-admission.jpg\n",
      "Data/test\\covid-19-pneumonia-20.jpg\n",
      "Data/test\\covid-19-pneumonia-22-day1-pa.png\n",
      "Data/test\\covid-19-pneumonia-22-day2-pa.png\n",
      "Data/test\\covid-19-pneumonia-34.png\n",
      "Data/test\\covid-19-pneumonia-38-pa.jpg\n",
      "100\n"
     ]
    }
   ],
   "source": [
    "cnt =0\n",
    "for (i,row) in df.iterrows():\n",
    "    if(row['finding'] == \"COVID-19\" and row[\"view\"] == \"PA\"):\n",
    "            filename = row[\"filename\"]\n",
    "            test_filename.append(filename)\n",
    "            test_finding.append(1)\n",
    "            image_path = os.path.join(imgaes_path, filename)\n",
    "            image_copy_path = os.path.join(target_normal, filename)\n",
    "            print(image_copy_path)\n",
    "            shutil.copy2(image_path , image_copy_path)\n",
    "            cnt += 1\n",
    "    if(cnt == 100):\n",
    "        break\n",
    "            \n",
    "            \n",
    "print(cnt)"
   ]
  },
  {
   "cell_type": "code",
   "execution_count": 70,
   "metadata": {},
   "outputs": [
    {
     "data": {
      "text/plain": [
       "(200, 2)"
      ]
     },
     "execution_count": 70,
     "metadata": {},
     "output_type": "execute_result"
    }
   ],
   "source": [
    "Dic = {\n",
    "    \"filename\" : test_filename,\n",
    "    \"finding\" : test_finding\n",
    "}\n",
    "test_df = pd.DataFrame(Dic)\n",
    "test_df.to_csv(\"Xray_test.csv\")\n",
    "test_df.shape"
   ]
  },
  {
   "cell_type": "code",
   "execution_count": 67,
   "metadata": {},
   "outputs": [],
   "source": [
    "def get_test_and_valid_generator(test_df, train_df,IMAGE_DIR, image_dir, x_col, y_cols, sample_size=100, batch_size=1, seed=1, target_w = 320, target_h = 320):\n",
    "    \n",
    "    print(\"getting train and valid generators...\")\n",
    "    # get generator to sample dataset\n",
    "    raw_train_generator = ImageDataGenerator().flow_from_dataframe(\n",
    "        dataframe=train_df, \n",
    "        directory=IMAGE_DIR, \n",
    "        x_col=x_col, \n",
    "        y_col=y_cols, \n",
    "        class_mode=\"raw\", \n",
    "        batch_size=sample_size, \n",
    "        shuffle=True, \n",
    "        target_size=(target_w, target_h))\n",
    "    \n",
    "    # get data sample\n",
    "    batch = raw_train_generator.next()\n",
    "    data_sample = batch[0]\n",
    "\n",
    "    # use sample to fit mean and std for test set generator\n",
    "    image_generator = ImageDataGenerator(\n",
    "        featurewise_center=True,\n",
    "        featurewise_std_normalization= True)\n",
    "    \n",
    "    # fit generator to sample from training data\n",
    "    image_generator.fit(data_sample)\n",
    "\n",
    "    # get test generator\n",
    "\n",
    "    test_generator = image_generator.flow_from_dataframe(\n",
    "            dataframe=test_df,\n",
    "            directory=image_dir,\n",
    "            x_col=x_col,\n",
    "            y_col=y_cols,\n",
    "            class_mode=\"raw\",\n",
    "            batch_size=batch_size,\n",
    "            shuffle=False,\n",
    "            seed=seed,\n",
    "            target_size=(target_w,target_h))\n",
    "    return test_generator"
   ]
  },
  {
   "cell_type": "code",
   "execution_count": 68,
   "metadata": {},
   "outputs": [
    {
     "name": "stdout",
     "output_type": "stream",
     "text": [
      "getting train and valid generators...\n",
      "Found 390 validated image filenames.\n",
      "Found 200 validated image filenames.\n"
     ]
    }
   ],
   "source": [
    "test_generator= get_test_and_valid_generator(test_df, train_df,covid_data_images,target_normal, \"filename\", \"finding\")"
   ]
  },
  {
   "cell_type": "code",
   "execution_count": 29,
   "metadata": {},
   "outputs": [
    {
     "name": "stdout",
     "output_type": "stream",
     "text": [
      "getting train and valid generators...\n",
      "Found 282 validated image filenames.\n",
      "Found 8 validated image filenames.\n"
     ]
    }
   ],
   "source": [
    "test_generator= get_test_and_valid_generator(test2_df, train_df,covid_data_images,target_normal, \"filename\", \"finding\")"
   ]
  },
  {
   "cell_type": "code",
   "execution_count": 30,
   "metadata": {},
   "outputs": [],
   "source": [
    "from tensorflow.keras.layers import GlobalAveragePooling2D,Dense\n",
    "from tensorflow.keras.models import Model"
   ]
  },
  {
   "cell_type": "raw",
   "metadata": {},
   "source": [
    "from tensorflow.keras.applications.densenet import DenseNet121\n",
    "base_model = DenseNet121(include_top=False)\n",
    "\n",
    "x = base_model.output\n",
    "\n",
    "# add a global spatial average pooling layer\n",
    "x = GlobalAveragePooling2D()(x)\n",
    "\n",
    "# and a logistic layer\n",
    "predictions = Dense(1, activation=\"sigmoid\")(x)\n",
    "\n",
    "model = Model(inputs=base_model.input, outputs=predictions)\n",
    "model.compile(optimizer='adam', loss='categorical_crossentropy', metrics=['accuracy'])"
   ]
  },
  {
   "cell_type": "raw",
   "metadata": {},
   "source": [
    "history = model.fit_generator(train_generator, \n",
    "                              steps_per_epoch=100, \n",
    "                              epochs = 3)\n",
    "\n",
    "plt.plot(history.history['loss'])\n",
    "plt.ylabel(\"loss\")\n",
    "plt.xlabel(\"epoch\")\n",
    "plt.title(\"Training Loss Curve\")\n",
    "plt.show()"
   ]
  },
  {
   "cell_type": "code",
   "execution_count": 32,
   "metadata": {},
   "outputs": [
    {
     "name": "stdout",
     "output_type": "stream",
     "text": [
      "WARNING:tensorflow:From <ipython-input-32-d0fde6f18d57>:1: Model.predict_generator (from tensorflow.python.keras.engine.training) is deprecated and will be removed in a future version.\n",
      "Instructions for updating:\n",
      "Please use Model.predict, which supports generators.\n",
      "WARNING:tensorflow:sample_weight modes were coerced from\n",
      "  ...\n",
      "    to  \n",
      "  ['...']\n",
      "8/8 [==============================] - 5s 613ms/step - loss: 1.1921e-07 - accuracy: 0.1250\n"
     ]
    }
   ],
   "source": [
    "predicted_vals = model.predict_generator(test_generator, steps = len(test_generator))\n",
    "prediction = model.evaluate(test_generator, steps = len(test_generator))"
   ]
  },
  {
   "cell_type": "code",
   "execution_count": 33,
   "metadata": {},
   "outputs": [
    {
     "name": "stdout",
     "output_type": "stream",
     "text": [
      "[1.1920930376163597e-07, 0.125]\n"
     ]
    },
    {
     "data": {
      "text/plain": [
       "[1, 1, 1, 1, 0, 1, 1, 0]"
      ]
     },
     "execution_count": 33,
     "metadata": {},
     "output_type": "execute_result"
    }
   ],
   "source": [
    "print(prediction)\n",
    "predict_val = []\n",
    "for i in predicted_vals:\n",
    "    if(i >= 0.3):\n",
    "        predict_val.append(1)\n",
    "    else:\n",
    "        predict_val.append(0)\n",
    "predict_val"
   ]
  },
  {
   "cell_type": "code",
   "execution_count": 35,
   "metadata": {},
   "outputs": [
    {
     "data": {
      "text/plain": [
       "(149, 2)"
      ]
     },
     "execution_count": 35,
     "metadata": {},
     "output_type": "execute_result"
    }
   ],
   "source": [
    "test_df.shape"
   ]
  },
  {
   "cell_type": "code",
   "execution_count": 39,
   "metadata": {},
   "outputs": [],
   "source": [
    "\n",
    "model=Sequential([\n",
    "    Conv2D(64,(3,3),input_shape=(600,550,3)),\n",
    "    MaxPooling2D(pool_size=(2,2),padding='SAME'),\n",
    "    Dropout(0.2),\n",
    "    Conv2D(64,(3,3),input_shape=(600,550,3)),\n",
    "    MaxPooling2D(pool_size=(2,2),padding='SAME'),\n",
    "    Dropout(0.2),\n",
    "    Conv2D(128,(3,3),input_shape=(600,550,3)),\n",
    "    MaxPooling2D(pool_size=(2,2),padding='SAME'),\n",
    "    Dropout(0.2),\n",
    "    Conv2D(128,(3,3),input_shape=(600,550,3)),\n",
    "    MaxPooling2D(pool_size=(2,2),padding='SAME'),\n",
    "    Dropout(0.2),\n",
    "    Conv2D(256,(3,3),input_shape=(600,550,3)),\n",
    "    MaxPooling2D(pool_size=(2,2),padding='SAME'),\n",
    "    Dropout(0.2),\n",
    "    Conv2D(256,(3,3),input_shape=(600,550,3)),\n",
    "    MaxPooling2D(pool_size=(2,2),padding='SAME'),\n",
    "    Dropout(0.2),\n",
    "    Flatten(),\n",
    "    Dense(1024,activation='relu'),\n",
    "    Dense(512,activation='relu'),\n",
    "    Dense(1,activation='softmax')\n",
    "])\n",
    "model.compile(optimizer='adam', loss='categorical_crossentropy', metrics=['accuracy'])"
   ]
  },
  {
   "cell_type": "code",
   "execution_count": 40,
   "metadata": {},
   "outputs": [
    {
     "name": "stdout",
     "output_type": "stream",
     "text": [
      "WARNING:tensorflow:sample_weight modes were coerced from\n",
      "  ...\n",
      "    to  \n",
      "  ['...']\n",
      "Train for 100 steps\n",
      "Epoch 1/3\n",
      "100/100 [==============================] - 110s 1s/step - loss: 0.0000e+00 - accuracy: 0.5700\n",
      "Epoch 2/3\n",
      "100/100 [==============================] - 106s 1s/step - loss: 0.0000e+00 - accuracy: 0.5000\n",
      "Epoch 3/3\n",
      "100/100 [==============================] - 105s 1s/step - loss: nan - accuracy: 0.5200\n"
     ]
    },
    {
     "data": {
      "image/png": "[encoded data removed]",
      "text/plain": [
       "<Figure size 432x288 with 1 Axes>"
      ]
     },
     "metadata": {
      "needs_background": "light"
     },
     "output_type": "display_data"
    }
   ],
   "source": [
    "history = model.fit_generator(train_generator, \n",
    "                              steps_per_epoch=100, \n",
    "                              epochs = 3)\n",
    "\n",
    "plt.plot(history.history['loss'])\n",
    "plt.ylabel(\"loss\")\n",
    "plt.xlabel(\"epoch\")\n",
    "plt.title(\"Training Loss Curve\")\n",
    "plt.show()"
   ]
  },
  {
   "cell_type": "raw",
   "metadata": {},
   "source": [
    "predicted_vals = model.predict_generator(test_generator, steps = len(test_generator))\n",
    "prediction = model.evaluate(test_generator, steps = len(test_generator))"
   ]
  },
  {
   "cell_type": "code",
   "execution_count": null,
   "metadata": {},
   "outputs": [],
   "source": [
    "target_normal = \"test_data/covid_data\"\n",
    "test2_filename = []\n",
    "test2_finding = []\n",
    "cnt = 0\n",
    "for (i,row) in df.iterrows():\n",
    "    if(row['finding'] == \"SARS\" and row[\"view\"] == \"PA\"):\n",
    "            filename = row[\"filename\"]\n",
    "            test2_filename.append(filename)\n",
    "            test2_finding.append(1)\n",
    "            image_path = os.path.join(imgaes_path, filename)\n",
    "            image_copy_path = os.path.join(target_normal, filename)\n",
    "            shutil.copy2(image_path , image_copy_path)\n",
    "            cnt += 1\n",
    "            \n",
    "            \n",
    "print(cnt)"
   ]
  }
 ],
 "metadata": {
  "kernelspec": {
   "display_name": "Python 3",
   "language": "python",
   "name": "python3"
  },
  "language_info": {
   "codemirror_mode": {
    "name": "ipython",
    "version": 3
   },
   "file_extension": ".py",
   "mimetype": "text/x-python",
   "name": "python",
   "nbconvert_exporter": "python",
   "pygments_lexer": "ipython3",
   "version": "3.7.4"
  }
 },
 "nbformat": 4,
 "nbformat_minor": 2
}
